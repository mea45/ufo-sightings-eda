{
 "cells": [
  {
   "cell_type": "markdown",
   "id": "a22ed04f-fb0f-4d4a-9730-53de26efd94a",
   "metadata": {},
   "source": [
    "# **UFO Sightings - Part 1: Preprocessing Data**"
   ]
  },
  {
   "cell_type": "markdown",
   "id": "dbe0f94b-1d55-4962-8e5f-cf244d8c73ee",
   "metadata": {},
   "source": [
    "## 0. Table of Contents"
   ]
  },
  {
   "cell_type": "markdown",
   "id": "65d692e4-b7be-40a5-bf51-64b5b3a76e96",
   "metadata": {},
   "source": [
    "[1. Importing Data Set and Necessary Packages](#1-importing-data-set-and-necessary-packages)<br>\n",
    "[2. Data Cleaning](#2-data-cleaning)"
   ]
  },
  {
   "cell_type": "code",
   "execution_count": 20,
   "id": "f57fc39d-e8a6-44e0-a47f-43d1cf676e1e",
   "metadata": {},
   "outputs": [
    {
     "name": "stdout",
     "output_type": "stream",
     "text": [
      "- [1. Importing Data Set and Necessary Packages](#1-importing-data-set-and-necessary-packages)\n",
      "- [2. Data Cleaning](#2-data-cleaning)\n"
     ]
    }
   ],
   "source": [
    "import re\n",
    "\n",
    "# Definieer een lijst met je sectietitels\n",
    "headers = [\"1. Importing Data Set and Necessary Packages\", \"2. Data Cleaning\"]\n",
    "\n",
    "# Maak Markdown-links\n",
    "for header in headers:\n",
    "    link = \"#\" + re.sub(r\"[^a-zA-Z0-9 ]\", \"\", header).lower().replace(\" \", \"-\")\n",
    "    print(f\"- [{header}]({link})\")\n"
   ]
  },
  {
   "cell_type": "markdown",
   "id": "fa7c7f10-b48a-42b3-abbd-4e5f1e025abf",
   "metadata": {},
   "source": [
    "## 1. Importing Data Set and Necessary Packages"
   ]
  },
  {
   "cell_type": "code",
   "execution_count": 13,
   "id": "cf524408-2afd-4fdb-a18c-f30a4dd5d176",
   "metadata": {},
   "outputs": [],
   "source": [
    "import html                                  # package used to convert text\n",
    "import numpy as np                           # linear algebra\n",
    "import os                                    # package used to set work directory\n",
    "import pandas as pd                          # package used to create dataframes\n",
    "import re                                    # regular expressions\n",
    "\n",
    "from datetime import datetime                # package used to convert string to datetime "
   ]
  },
  {
   "cell_type": "code",
   "execution_count": 16,
   "id": "01746daf-8886-456e-a9dd-fe7c3427cf99",
   "metadata": {},
   "outputs": [],
   "source": [
    "data = pd.read_csv('scrubbed.csv', low_memory=False)"
   ]
  },
  {
   "cell_type": "code",
   "execution_count": 14,
   "id": "9a7077ba-cc80-498d-ab21-9e2ce6680830",
   "metadata": {},
   "outputs": [
    {
     "name": "stdout",
     "output_type": "stream",
     "text": [
      "<class 'pandas.core.frame.DataFrame'>\n",
      "RangeIndex: 80332 entries, 0 to 80331\n",
      "Data columns (total 11 columns):\n",
      " #   Column                Non-Null Count  Dtype  \n",
      "---  ------                --------------  -----  \n",
      " 0   datetime              80332 non-null  object \n",
      " 1   city                  80332 non-null  object \n",
      " 2   state                 74535 non-null  object \n",
      " 3   country               70662 non-null  object \n",
      " 4   shape                 78400 non-null  object \n",
      " 5   duration (seconds)    80332 non-null  object \n",
      " 6   duration (hours/min)  80332 non-null  object \n",
      " 7   comments              80317 non-null  object \n",
      " 8   date posted           80332 non-null  object \n",
      " 9   latitude              80332 non-null  object \n",
      " 10  longitude             80332 non-null  float64\n",
      "dtypes: float64(1), object(10)\n",
      "memory usage: 6.7+ MB\n",
      "None\n"
     ]
    }
   ],
   "source": [
    "print(data.info())"
   ]
  },
  {
   "cell_type": "markdown",
   "id": "afd1e588-ade2-4192-9a79-790d55eff4ec",
   "metadata": {},
   "source": [
    "The data set contains a decent amount of observations, 80,332 to be specific, and 11 columns. Apart from the column `longitude`, the columns are not assigned a data type. Before we assign data types, we will first do some further exploration. The columns `state`, `country`, `shape` and `comments` seem to have missing values which should be addressed as well. There are two different columns that contain the durations of the UFO sightings. All of these points will be addressed in the next section where we will be cleaning and preparing the data for analysis."
   ]
  },
  {
   "cell_type": "markdown",
   "id": "27653279-a089-467d-88cc-6b165cd97a06",
   "metadata": {},
   "source": [
    "## 2. Data Cleaning"
   ]
  },
  {
   "cell_type": "markdown",
   "id": "cffa1ba7-fc04-4ec1-8300-5b2e0ae77cb5",
   "metadata": {},
   "source": [
    "*coming soon*"
   ]
  }
 ],
 "metadata": {
  "kernelspec": {
   "display_name": "Python 3 (Spyder)",
   "language": "python3",
   "name": "python3"
  },
  "language_info": {
   "codemirror_mode": {
    "name": "ipython",
    "version": 3
   },
   "file_extension": ".py",
   "mimetype": "text/x-python",
   "name": "python",
   "nbconvert_exporter": "python",
   "pygments_lexer": "ipython3",
   "version": "3.12.9"
  }
 },
 "nbformat": 4,
 "nbformat_minor": 5
}
